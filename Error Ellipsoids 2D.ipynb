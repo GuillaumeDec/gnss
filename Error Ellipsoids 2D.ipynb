{
 "cells": [
  {
   "cell_type": "code",
   "execution_count": 1,
   "metadata": {},
   "outputs": [],
   "source": [
    "import numpy as np\n",
    "\n",
    "import matplotlib.pyplot as plt\n",
    "from matplotlib.patches import Ellipse\n"
   ]
  },
  {
   "cell_type": "code",
   "execution_count": 2,
   "metadata": {},
   "outputs": [],
   "source": [
    "# BARLOW FORMULAS \n",
    "\n",
    "def get_covariance_matrix(rho, sigma_x, sigma_y):\n",
    "    return np.array([ [sigma_x**2, rho*sigma_x*sigma_y], [rho*sigma_x*sigma_y, sigma_y**2] ])\n",
    "\n",
    "def get_theta(rho, sigma_x, sigma_y):\n",
    "    return 0.5 * np.arctan2(2.*rho*sigma_x*sigma_y, (sigma_x**2-sigma_y**2))\n",
    "\n",
    "def get_sigma_u(sigma_x, sigma_y, theta):\n",
    "    return np.power(\n",
    "        (np.cos(theta)**2 * sigma_x**2 - np.sin(theta)**2 * sigma_y**2) / (np.cos(theta)**2 - np.sin(theta)**2), 0.5)\n",
    "\n",
    "def get_sigma_v(sigma_x, sigma_y, theta):\n",
    "    return np.power(\n",
    "        (np.cos(theta)**2 * sigma_y**2 - np.sin(theta)**2 * sigma_x**2) / (np.cos(theta)**2 - np.sin(theta)**2), 0.5)\n",
    "\n",
    "def get_sigma_x(sigma_u, sigma_v, theta):\n",
    "    return np.cos(theta)**2 * sigma_u**2 + np.sin(theta)**2 * sigma_v**2\n",
    "\n",
    "def get_sigma_y(sigma_u, sigma_v, theta):\n",
    "    return np.cos(theta)**2 * sigma_v**2 + np.sin(theta)**2 * sigma_u**2\n",
    "\n",
    "def get_rho(theta, sigma_x, sigma_y, sigma_u, sigma_v):\n",
    "    return np.sin(theta) * np.cos(theta) * (sigma_u**2 - sigma_v**2) / (sigma_x*sigma_y)"
   ]
  },
  {
   "cell_type": "code",
   "execution_count": 3,
   "metadata": {},
   "outputs": [],
   "source": [
    "# some random numbers\n",
    "sigma_x = 2.\n",
    "sigma_y = 3.\n",
    "rho = 0.5\n",
    "\n",
    "M = get_covariance_matrix(rho, sigma_x, sigma_y)\n",
    "\n",
    "# BARLOW\n",
    "theta = get_theta(rho, sigma_x, sigma_y)\n",
    "sigma_u = get_sigma_u(sigma_x, sigma_y, theta)\n",
    "sigma_v = get_sigma_v(sigma_x, sigma_y, theta)\n",
    "got_rho = get_rho(theta, sigma_x, sigma_y, sigma_u, sigma_v)\n",
    "# print(\" got_Rho = {}\\n theta = {}\\n sigma_u = {}\\n sigma_v={}\".format(rho, np.rad2deg(theta), sigma_u, sigma_v))\n",
    "\n",
    "# ANTHONY / ME (in the gnss-converters repo)\n",
    "trace = np.trace(M)\n",
    "det = np.linalg.det(M)\n",
    "eigen_value_1 = (trace/2. + np.sqrt(((trace*trace)/4.)-det))\n",
    "eigen_value_2 = (trace/2. - np.sqrt(((trace*trace)/4.)-det))\n",
    "semi_major = np.sqrt(eigen_value_1)\n",
    "semi_minor = np.sqrt(eigen_value_2)\n",
    "orientation = np.arctan(M[1,0]/(eigen_value_1 - M[1,1]))"
   ]
  },
  {
   "cell_type": "markdown",
   "metadata": {},
   "source": [
    "## Now compare BARLOW vs Anthony / me"
   ]
  },
  {
   "cell_type": "code",
   "execution_count": 4,
   "metadata": {},
   "outputs": [
    {
     "name": "stdout",
     "output_type": "stream",
     "text": [
      "[[4. 3.]\n",
      " [3. 9.]]\n",
      " semi-major, sigma_u = 3.2256975738517903, 3.2256975738517903\n",
      " semi-minor, sigma_v = 1.610861621011151, 1.610861621011151\n",
      "orientation, theta = 64.9027855461326, 64.9027855461326\n"
     ]
    }
   ],
   "source": [
    "print(M)\n",
    "print(\" semi-major, sigma_u = {}, {}\\n semi-minor, sigma_v = {}, {}\".format(semi_major, sigma_u, semi_minor, sigma_v))\n",
    "print(\"orientation, theta = {}, {}\".format(np.degrees(orientation), np.degrees(theta)))"
   ]
  },
  {
   "cell_type": "markdown",
   "metadata": {},
   "source": [
    "### Yay! it's the same. Though Barlow won't like theta=45º since it gets a divide-by-zero pb"
   ]
  },
  {
   "cell_type": "markdown",
   "metadata": {},
   "source": [
    "## now compare anthony/me vs plot technic below"
   ]
  },
  {
   "cell_type": "code",
   "execution_count": 5,
   "metadata": {},
   "outputs": [
    {
     "name": "stdout",
     "output_type": "stream",
     "text": [
      "L1_vec anthony/me, warning: not normwlized [1.69307495 3.02906372]\n",
      "L1_vec anthony/me, normwlized [0.48790104 0.87289895]\n",
      "L1_vec plot:  [0.48790104 0.87289895]\n",
      "\n",
      "\n",
      "anthony:  60.7972837313076\n",
      "atan2 *vecs:  60.79728373130757\n",
      "\n",
      "\n"
     ]
    }
   ],
   "source": [
    "\n",
    "# covariance matrix of plot data (fixed seed of 3 with 200 data points)\n",
    "cov_plot = np.array([[4.75247453, 3.02906372], [3.02906372, 8.47866764]])\n",
    "\n",
    "#  plot method (same as ours but we still wanna double-check, the minor diff is their eigen vecs are normalized)\n",
    "vals_plot, vecs_plot = np.linalg.eigh(cov_plot)\n",
    "order_plot = vals_plot.argsort()[::-1]\n",
    "vecs_plot = vecs_plot[:, order_plot]\n",
    "trace_plot = np.trace(cov_plot)\n",
    "det_plot = np.linalg.det(cov_plot)\n",
    "\n",
    "# anthony/me method, largest eigen value:\n",
    "L1_plot = (trace_plot/2. + np.sqrt(((trace_plot*trace_plot)/4.)-det_plot))\n",
    "\n",
    "L1_vec = np.array([L1_plot-cov_plot[1,1], cov_plot[1,0]])\n",
    "print(\"L1_vec anthony/me, warning: not normwlized\", L1_vec)\n",
    "print(\"L1_vec anthony/me, normwlized\", L1_vec/np.linalg.norm(L1_vec))\n",
    "print(\"L1_vec plot: \", vecs_plot[:,0])\n",
    "\n",
    "\n",
    "print(\"\\n\")\n",
    "print(\"anthony: \", np.degrees( np.arctan( cov_plot[1,0] / (L1_plot - cov_plot[1,1]) ) ) ) \n",
    "print(\"atan2 *vecs: \", np.degrees(np.arctan2(*vecs_plot[:,0][::-1])))\n",
    "print(\"\\n\")\n",
    "\n"
   ]
  },
  {
   "cell_type": "markdown",
   "metadata": {},
   "source": [
    "## Yay, it's the same also! "
   ]
  },
  {
   "cell_type": "code",
   "execution_count": 6,
   "metadata": {},
   "outputs": [
    {
     "name": "stdout",
     "output_type": "stream",
     "text": [
      "cov:\n",
      " [[4.75247453 3.02906372]\n",
      " [3.02906372 8.47866764]] \n",
      "\n",
      "eigen_vals =  [10.17174259  3.05939957]\n",
      "width =  12.757267791831072\n",
      "height =  6.996455755712796\n",
      "theta =  60.79728371547114\n"
     ]
    },
    {
     "data": {
      "image/png": "[encoded data removed]",
      "text/plain": [
       "<Figure size 432x288 with 1 Axes>"
      ]
     },
     "metadata": {},
     "output_type": "display_data"
    },
    {
     "name": "stdout",
     "output_type": "stream",
     "text": [
      "IF YOU USE CONFIDENCE_FACTOR (see Torrieri paper), you'll get proper cover. WARNING: for 2D gaussian case, 1-sigma DOES NOT cover 68%, it's more like 60%, that's what you see if you use PROBSA_COVER=0/6\n",
      "When using just nstd, no confidence, you re in fact plotting an ERROR ELLIPSE (noaa paper on ellipsoids cf. bookmark), NOT a CONFIDENCE ELLIPSE (torrieri)\n"
     ]
    }
   ],
   "source": [
    "np.random.seed(3)\n",
    "def plot_point_cov(points, nstd=2, ax=None, **kwargs):\n",
    "    \"\"\"\n",
    "    Plots an `nstd` sigma ellipse based on the mean and covariance of a point\n",
    "    \"cloud\" (points, an Nx2 array).\n",
    "\n",
    "    Parameters\n",
    "    ----------\n",
    "        points : An Nx2 array of the data points.\n",
    "        nstd : The radius of the ellipse in numbers of standard deviations.\n",
    "            Defaults to 2 standard deviations.\n",
    "        ax : The axis that the ellipse will be plotted on. Defaults to the \n",
    "            current axis.\n",
    "        Additional keyword arguments are pass on to the ellipse patch.\n",
    "\n",
    "    Returns\n",
    "    -------\n",
    "        A matplotlib ellipse artist\n",
    "    \"\"\"\n",
    "    pos = points.mean(axis=0)\n",
    "    cov = np.cov(points, rowvar=False)\n",
    "    print(\"cov:\\n\", cov, \"\\n\")\n",
    "    return plot_cov_ellipse(cov, pos, nstd, ax, **kwargs)\n",
    "\n",
    "def plot_cov_ellipse(cov, pos, nstd=2, ax=None, **kwargs):\n",
    "    \"\"\"\n",
    "    Plots an `nstd` sigma error ellipse based on the specified covariance\n",
    "    matrix (`cov`). Additional keyword arguments are passed on to the \n",
    "    ellipse patch artist.\n",
    "\n",
    "    Parameters\n",
    "    ----------\n",
    "        cov : The 2x2 covariance matrix to base the ellipse on\n",
    "        pos : The location of the center of the ellipse. Expects a 2-element\n",
    "            sequence of [x0, y0].\n",
    "        nstd : The radius of the ellipse in numbers of standard deviations.\n",
    "            Defaults to 2 standard deviations.\n",
    "        ax : The axis that the ellipse will be plotted on. Defaults to the \n",
    "            current axis.\n",
    "        Additional keyword arguments are pass on to the ellipse patch.\n",
    "\n",
    "    Returns\n",
    "    -------\n",
    "        A matplotlib ellipse artist\n",
    "    \"\"\"\n",
    "    def eigsorted(cov):\n",
    "        vals, vecs = np.linalg.eigh(cov)\n",
    "        order = vals.argsort()[::-1]\n",
    "        return vals[order], vecs[:,order]\n",
    "\n",
    "    if ax is None:\n",
    "        ax = plt.gca()\n",
    "\n",
    "    vals, vecs = eigsorted(cov)\n",
    "    theta = np.degrees(np.arctan2(*vecs[:,0][::-1]))\n",
    "\n",
    "    # Width and height are \"full\" widths, not radius\n",
    "    PROBA_COVER = 0.5 # this is the \"1-sigma\" equivalent in 2D gaussian world. See https://math.stackexchange.com/questions/143377/3-sigma-rule-for-multivariate-normal-distribution\n",
    "\n",
    "    CONFIDENCE_FACTOR = -2. * np.log(1. - PROBA_COVER)\n",
    "    # use regular stuff for now\n",
    "    # \n",
    "    CONFIDENCE_FACTOR = 1.0\n",
    "\n",
    "    width, height = 2 * nstd * np.sqrt(vals * CONFIDENCE_FACTOR)\n",
    "    print (\"eigen_vals = \", vals)\n",
    "    print (\"width = \", width)\n",
    "    print (\"height = \", height)\n",
    "    print (\"theta = \", theta)\n",
    "    ellip = Ellipse(xy=pos, width=width, height=height, angle=theta, **kwargs)\n",
    "\n",
    "    ax.add_artist(ellip)\n",
    "    return ellip\n",
    "\n",
    "#-- Example usage -----------------------\n",
    "# Generate some random, correlated data\n",
    "points = np.random.multivariate_normal(\n",
    "        mean=(0,0), cov=[[2.**2, 0.5*2*3],[0.5*2*3, 3**2]], size=200\n",
    "        )\n",
    "# Plot the raw points...\n",
    "x, y = points.T\n",
    "plt.plot(x, y, 'ro')\n",
    "\n",
    "# Plot a transparent 3 standard deviation covariance ellipse\n",
    "plot_point_cov(points, nstd=2, alpha=0.5, color='green')\n",
    "\n",
    "plt.show()\n",
    "print(\"IF YOU USE CONFIDENCE_FACTOR (see Torrieri paper), you'll get proper cover. WARNING: for 2D gaussian case, 1-sigma DOES NOT cover 68%, it's more like 60%, that's what you see if you use PROBSA_COVER=0/6\")\n",
    "print(\"When using just nstd, no confidence, you re in fact plotting an ERROR ELLIPSE (noaa paper on ellipsoids cf. bookmark), NOT a CONFIDENCE ELLIPSE (torrieri)\")"
   ]
  },
  {
   "cell_type": "code",
   "execution_count": null,
   "metadata": {},
   "outputs": [],
   "source": []
  },
  {
   "cell_type": "code",
   "execution_count": null,
   "metadata": {},
   "outputs": [],
   "source": []
  }
 ],
 "metadata": {
  "kernelspec": {
   "display_name": "Python 3",
   "language": "python",
   "name": "python3"
  },
  "language_info": {
   "codemirror_mode": {
    "name": "ipython",
    "version": 3
   },
   "file_extension": ".py",
   "mimetype": "text/x-python",
   "name": "python",
   "nbconvert_exporter": "python",
   "pygments_lexer": "ipython3",
   "version": "3.7.0"
  }
 },
 "nbformat": 4,
 "nbformat_minor": 2
}
