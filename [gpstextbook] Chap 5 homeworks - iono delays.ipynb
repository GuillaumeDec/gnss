{
 "cells": [
  {
   "cell_type": "markdown",
   "metadata": {},
   "source": [
    "# gpstextbook homework 5.4"
   ]
  },
  {
   "cell_type": "code",
   "execution_count": 1,
   "metadata": {},
   "outputs": [
    {
     "name": "stdout",
     "output_type": "stream",
     "text": [
      "Populating the interactive namespace from numpy and matplotlib\n"
     ]
    }
   ],
   "source": [
    "import pandas as pd\n",
    "import numpy as np\n",
    "\n",
    "%pylab inline\n",
    "import matplotlib.animation as animation\n",
    "plt.rcParams[\"animation.html\"] = \"jshtml\" # also try \"html5\" (requires ffmpeg)"
   ]
  },
  {
   "cell_type": "code",
   "execution_count": 12,
   "metadata": {},
   "outputs": [],
   "source": [
    "frequency_L1 = 1575.42e6  # in Hz\n",
    "frequency_L2 = 1227.60e6  # in Hz"
   ]
  },
  {
   "cell_type": "code",
   "execution_count": 10,
   "metadata": {},
   "outputs": [],
   "source": [
    "def read_rinex(path_rinex_file):\n",
    "    return pd.read_csv(path_rinex_file, engine='python', delimiter='\\s+', header=None, \n",
    "                       names=['gps_week', 'rx_week', 'prn', 'pseudoL1', 'cyclesL1', 'cyclesL2', 'pseudoP1', \n",
    "                      'pseudoP2', 'dopplerL1', 'dopplerL2'])\n",
    "\n",
    "    "
   ]
  },
  {
   "cell_type": "code",
   "execution_count": 17,
   "metadata": {},
   "outputs": [],
   "source": [
    "def iono_group_delay(pseudorange_L1, pseudorange_L2, frequency_L1=frequency_L1, frequency_L2=frequency_L2):\n",
    "    factor = pow(frequency_L2, 2) / (pow(frequency_L1, 2) - pow(frequency_L2, 2))\n",
    "    \n",
    "    def get_iono_group_delay(pseudorange_L1, pseudorange_L2):\n",
    "        return factor * (pseudorange_L2 - pseudorange_L1)\n",
    "    \n",
    "    return get_iono_group_delay"
   ]
  },
  {
   "cell_type": "code",
   "execution_count": 11,
   "metadata": {},
   "outputs": [
    {
     "data": {
      "text/html": [
       "<div>\n",
       "<style scoped>\n",
       "    .dataframe tbody tr th:only-of-type {\n",
       "        vertical-align: middle;\n",
       "    }\n",
       "\n",
       "    .dataframe tbody tr th {\n",
       "        vertical-align: top;\n",
       "    }\n",
       "\n",
       "    .dataframe thead th {\n",
       "        text-align: right;\n",
       "    }\n",
       "</style>\n",
       "<table border=\"1\" class=\"dataframe\">\n",
       "  <thead>\n",
       "    <tr style=\"text-align: right;\">\n",
       "      <th></th>\n",
       "      <th>gps_week</th>\n",
       "      <th>rx_week</th>\n",
       "      <th>prn</th>\n",
       "      <th>pseudoL1</th>\n",
       "      <th>cyclesL1</th>\n",
       "      <th>cyclesL2</th>\n",
       "      <th>pseudoP1</th>\n",
       "      <th>pseudoP2</th>\n",
       "      <th>dopplerL1</th>\n",
       "      <th>dopplerL2</th>\n",
       "    </tr>\n",
       "  </thead>\n",
       "  <tbody>\n",
       "    <tr>\n",
       "      <th>0</th>\n",
       "      <td>1080.0</td>\n",
       "      <td>86443.0</td>\n",
       "      <td>3.0</td>\n",
       "      <td>2.380454e+07</td>\n",
       "      <td>-8.548223e+06</td>\n",
       "      <td>-6.619810e+06</td>\n",
       "      <td>2.380454e+07</td>\n",
       "      <td>2.380456e+07</td>\n",
       "      <td>2388.252</td>\n",
       "      <td>1860.972</td>\n",
       "    </tr>\n",
       "    <tr>\n",
       "      <th>1</th>\n",
       "      <td>1080.0</td>\n",
       "      <td>86443.0</td>\n",
       "      <td>31.0</td>\n",
       "      <td>2.412789e+07</td>\n",
       "      <td>-3.735495e+06</td>\n",
       "      <td>-1.187441e+06</td>\n",
       "      <td>2.412789e+07</td>\n",
       "      <td>2.412791e+07</td>\n",
       "      <td>3899.132</td>\n",
       "      <td>3038.264</td>\n",
       "    </tr>\n",
       "    <tr>\n",
       "      <th>2</th>\n",
       "      <td>1080.0</td>\n",
       "      <td>86443.0</td>\n",
       "      <td>20.0</td>\n",
       "      <td>2.352962e+07</td>\n",
       "      <td>-3.212267e+07</td>\n",
       "      <td>-2.446205e+07</td>\n",
       "      <td>2.352962e+07</td>\n",
       "      <td>2.352964e+07</td>\n",
       "      <td>-2686.007</td>\n",
       "      <td>-2092.975</td>\n",
       "    </tr>\n",
       "  </tbody>\n",
       "</table>\n",
       "</div>"
      ],
      "text/plain": [
       "   gps_week  rx_week   prn      pseudoL1      cyclesL1      cyclesL2  \\\n",
       "0    1080.0  86443.0   3.0  2.380454e+07 -8.548223e+06 -6.619810e+06   \n",
       "1    1080.0  86443.0  31.0  2.412789e+07 -3.735495e+06 -1.187441e+06   \n",
       "2    1080.0  86443.0  20.0  2.352962e+07 -3.212267e+07 -2.446205e+07   \n",
       "\n",
       "       pseudoP1      pseudoP2  dopplerL1  dopplerL2  \n",
       "0  2.380454e+07  2.380456e+07   2388.252   1860.972  \n",
       "1  2.412789e+07  2.412791e+07   3899.132   3038.264  \n",
       "2  2.352962e+07  2.352964e+07  -2686.007  -2092.975  "
      ]
     },
     "execution_count": 11,
     "metadata": {},
     "output_type": "execute_result"
    }
   ],
   "source": [
    "path_rinex_file = '/Users/guillaume/Workspace/gnss/data/Data/Pigeon_Point/September_18_2000/Parsed/pp091800.rio'\n",
    "\n",
    "df = read_rinex(path_rinex_file)\n",
    "\n",
    "df.head(3)"
   ]
  },
  {
   "cell_type": "code",
   "execution_count": 49,
   "metadata": {},
   "outputs": [],
   "source": [
    "get_iono_group_delay = iono_group_delay(None, None)\n",
    "\n",
    "df['iono_group_delay'] = df.apply(lambda x: get_iono_group_delay(x['pseudoL1'], x['pseudoP2']), axis=1)"
   ]
  },
  {
   "cell_type": "code",
   "execution_count": 50,
   "metadata": {},
   "outputs": [
    {
     "data": {
      "text/html": [
       "<div>\n",
       "<style scoped>\n",
       "    .dataframe tbody tr th:only-of-type {\n",
       "        vertical-align: middle;\n",
       "    }\n",
       "\n",
       "    .dataframe tbody tr th {\n",
       "        vertical-align: top;\n",
       "    }\n",
       "\n",
       "    .dataframe thead th {\n",
       "        text-align: right;\n",
       "    }\n",
       "</style>\n",
       "<table border=\"1\" class=\"dataframe\">\n",
       "  <thead>\n",
       "    <tr style=\"text-align: right;\">\n",
       "      <th></th>\n",
       "      <th>gps_week</th>\n",
       "      <th>rx_week</th>\n",
       "      <th>prn</th>\n",
       "      <th>pseudoL1</th>\n",
       "      <th>cyclesL1</th>\n",
       "      <th>cyclesL2</th>\n",
       "      <th>pseudoP1</th>\n",
       "      <th>pseudoP2</th>\n",
       "      <th>dopplerL1</th>\n",
       "      <th>dopplerL2</th>\n",
       "      <th>iono_group_delay</th>\n",
       "    </tr>\n",
       "  </thead>\n",
       "  <tbody>\n",
       "    <tr>\n",
       "      <th>0</th>\n",
       "      <td>1080.0</td>\n",
       "      <td>86443.0</td>\n",
       "      <td>3.0</td>\n",
       "      <td>2.380454e+07</td>\n",
       "      <td>-8.548223e+06</td>\n",
       "      <td>-6.619810e+06</td>\n",
       "      <td>2.380454e+07</td>\n",
       "      <td>2.380456e+07</td>\n",
       "      <td>2388.252</td>\n",
       "      <td>1860.972</td>\n",
       "      <td>23.773293</td>\n",
       "    </tr>\n",
       "    <tr>\n",
       "      <th>1</th>\n",
       "      <td>1080.0</td>\n",
       "      <td>86443.0</td>\n",
       "      <td>31.0</td>\n",
       "      <td>2.412789e+07</td>\n",
       "      <td>-3.735495e+06</td>\n",
       "      <td>-1.187441e+06</td>\n",
       "      <td>2.412789e+07</td>\n",
       "      <td>2.412791e+07</td>\n",
       "      <td>3899.132</td>\n",
       "      <td>3038.264</td>\n",
       "      <td>25.912581</td>\n",
       "    </tr>\n",
       "    <tr>\n",
       "      <th>2</th>\n",
       "      <td>1080.0</td>\n",
       "      <td>86443.0</td>\n",
       "      <td>20.0</td>\n",
       "      <td>2.352962e+07</td>\n",
       "      <td>-3.212267e+07</td>\n",
       "      <td>-2.446205e+07</td>\n",
       "      <td>2.352962e+07</td>\n",
       "      <td>2.352964e+07</td>\n",
       "      <td>-2686.007</td>\n",
       "      <td>-2092.975</td>\n",
       "      <td>30.412194</td>\n",
       "    </tr>\n",
       "  </tbody>\n",
       "</table>\n",
       "</div>"
      ],
      "text/plain": [
       "   gps_week  rx_week   prn      pseudoL1      cyclesL1      cyclesL2  \\\n",
       "0    1080.0  86443.0   3.0  2.380454e+07 -8.548223e+06 -6.619810e+06   \n",
       "1    1080.0  86443.0  31.0  2.412789e+07 -3.735495e+06 -1.187441e+06   \n",
       "2    1080.0  86443.0  20.0  2.352962e+07 -3.212267e+07 -2.446205e+07   \n",
       "\n",
       "       pseudoP1      pseudoP2  dopplerL1  dopplerL2  iono_group_delay  \n",
       "0  2.380454e+07  2.380456e+07   2388.252   1860.972         23.773293  \n",
       "1  2.412789e+07  2.412791e+07   3899.132   3038.264         25.912581  \n",
       "2  2.352962e+07  2.352964e+07  -2686.007  -2092.975         30.412194  "
      ]
     },
     "execution_count": 50,
     "metadata": {},
     "output_type": "execute_result"
    }
   ],
   "source": [
    "df.head(3)"
   ]
  },
  {
   "cell_type": "code",
   "execution_count": null,
   "metadata": {},
   "outputs": [],
   "source": []
  }
 ],
 "metadata": {
  "kernelspec": {
   "display_name": "Python 3",
   "language": "python",
   "name": "python3"
  },
  "language_info": {
   "codemirror_mode": {
    "name": "ipython",
    "version": 2
   },
   "file_extension": ".py",
   "mimetype": "text/x-python",
   "name": "python",
   "nbconvert_exporter": "python",
   "pygments_lexer": "ipython2",
   "version": "2.7.15"
  }
 },
 "nbformat": 4,
 "nbformat_minor": 2
}
